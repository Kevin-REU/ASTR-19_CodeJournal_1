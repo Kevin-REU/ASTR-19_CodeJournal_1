{
 "cells": [
  {
   "cell_type": "markdown",
   "id": "fa733c28-bac4-44ed-a9db-9a6fc0aee85c",
   "metadata": {},
   "source": [
    "### Kevin Gustavo Roldan\n",
    "### ASTR-19\n",
    "### 2025/10/16\n",
    "\n",
    "##### Create a Jupyter Notebook where, in separate cells, you define functions that return sin(x) and cos(x).  Use Markdown cells to comment your Notebook, and describe what each function does. Create a third Python cell that will tabulate sin(x) and cos(x) using these previously defined functions vs. x, where x is tabulated between 0 and 2 with a thousand entries. Write a fourth Python cell that will use a for loop to print out the first 10 values of x, sin(x), and cos(x) in columns."
   ]
  },
  {
   "cell_type": "markdown",
   "id": "7af53a87-c314-4b02-9ca2-8a4073c99223",
   "metadata": {},
   "source": [
    "##### Imported Linbraries"
   ]
  },
  {
   "cell_type": "code",
   "execution_count": 20,
   "id": "6ceec086-f80e-44d2-86f6-3d085754b8c4",
   "metadata": {},
   "outputs": [],
   "source": [
    "import numpy as np\n",
    "from astropy.table import Table\n",
    "from astropy.io import ascii\n",
    "from astropy.io import fits"
   ]
  },
  {
   "cell_type": "markdown",
   "id": "fdb89bec-cd38-4a9d-9bc6-dc43c3b50f28",
   "metadata": {},
   "source": [
    "##### Calculates sin(x)"
   ]
  },
  {
   "cell_type": "code",
   "execution_count": 21,
   "id": "fe1be419-0fc4-4c82-b25f-ab49fdfd39bf",
   "metadata": {},
   "outputs": [],
   "source": [
    "def sinx(x):\n",
    "    return np.sin(x)"
   ]
  },
  {
   "cell_type": "markdown",
   "id": "5bf1d2d9-1d08-4efc-9183-3a344d3ff0ed",
   "metadata": {},
   "source": [
    "##### Calculates cos(x)"
   ]
  },
  {
   "cell_type": "code",
   "execution_count": 22,
   "id": "d522bf3f-745c-4dcf-adf7-a62046f74ebd",
   "metadata": {},
   "outputs": [],
   "source": [
    "def cosx(x):\n",
    "    return np.cos(x)"
   ]
  },
  {
   "cell_type": "markdown",
   "id": "b18979e2-e915-4882-bec7-dcf088f6f2b1",
   "metadata": {},
   "source": [
    "##### Tabulates sin(x) and cos(x) vs. x"
   ]
  },
  {
   "cell_type": "code",
   "execution_count": 26,
   "id": "2f630f75-5823-4e01-bf6a-deb68238a4c2",
   "metadata": {},
   "outputs": [],
   "source": [
    "def Tab(x):\n",
    "    return Table([x,sinx(x),cosx(x)], names = ['x','sin(x)','cos(x)'])"
   ]
  },
  {
   "cell_type": "markdown",
   "id": "893012b5-0d9c-4cd1-b058-30e2d86c6ab5",
   "metadata": {},
   "source": [
    "### Main Function"
   ]
  },
  {
   "cell_type": "code",
   "execution_count": 45,
   "id": "4416cc4d-ede8-4856-836f-1a49a2dec63a",
   "metadata": {},
   "outputs": [],
   "source": [
    "def main():\n",
    "    x = np.linspace(0.,2.*np.pi,1000)  # Initialize the values to put in the x array\n",
    "    data = Tab(x)                      # Call to use all the functions and save the results under 'data'\n",
    "\n",
    "    \n",
    "    for i in range(10):                # For loop to print out the first 10 values\n",
    "        print(data[i])                 # Print the i entry in the data array"
   ]
  },
  {
   "cell_type": "markdown",
   "id": "8db0d4a2-49c2-4dbf-bbc9-8790cad377e6",
   "metadata": {},
   "source": [
    "##### Order of Idiom Execution (Execute main() first)"
   ]
  },
  {
   "cell_type": "code",
   "execution_count": 44,
   "id": "dc49c2c3-e0df-4f6f-bc2e-68ca77679224",
   "metadata": {},
   "outputs": [
    {
     "name": "stdout",
     "output_type": "stream",
     "text": [
      " x  sin(x) cos(x)\n",
      "--- ------ ------\n",
      "0.0    0.0    1.0\n",
      "         x                  sin(x)              cos(x)      \n",
      "-------------------- -------------------- ------------------\n",
      "0.006289474781961547 0.006289433316067751 0.9999802213186832\n",
      "         x                  sin(x)              cos(x)      \n",
      "-------------------- -------------------- ------------------\n",
      "0.012578949563923095 0.012578617838741058 0.9999208860571255\n",
      "         x                  sin(x)             cos(x)      \n",
      "-------------------- ------------------- ------------------\n",
      "0.018868424345884642 0.01886730478446709 0.9998219965624732\n",
      "         x                 sin(x)              cos(x)      \n",
      "------------------- -------------------- ------------------\n",
      "0.02515789912784619 0.025155245389375847 0.9996835567465339\n",
      "         x                sin(x)             cos(x)      \n",
      "------------------- ------------------ ------------------\n",
      "0.03144737390980774 0.0314421909191206 0.9995055720856215\n",
      "         x                  sin(x)            cos(x)     \n",
      "-------------------- ------------------- ----------------\n",
      "0.037736848691769284 0.03772789267871718 0.99928804962034\n",
      "         x                 sin(x)             cos(x)      \n",
      "------------------- ------------------- ------------------\n",
      "0.04402632347373083 0.04401210202238166 0.9990309979553044\n",
      "         x                 sin(x)             cos(x)      \n",
      "------------------- ------------------- ------------------\n",
      "0.05031579825569238 0.05029457036336618 0.9987344272588006\n",
      "         x                  sin(x)              cos(x)      \n",
      "-------------------- -------------------- ------------------\n",
      "0.056605273037653926 0.056575049183792345 0.9983983492623831\n"
     ]
    }
   ],
   "source": [
    "if __name__==\"__main__\":\n",
    "    main()"
   ]
  },
  {
   "cell_type": "code",
   "execution_count": null,
   "id": "3476773f-c1f6-47b5-84b4-b9c86e45867f",
   "metadata": {},
   "outputs": [],
   "source": []
  }
 ],
 "metadata": {
  "kernelspec": {
   "display_name": "Python 3 (ipykernel)",
   "language": "python",
   "name": "python3"
  },
  "language_info": {
   "codemirror_mode": {
    "name": "ipython",
    "version": 3
   },
   "file_extension": ".py",
   "mimetype": "text/x-python",
   "name": "python",
   "nbconvert_exporter": "python",
   "pygments_lexer": "ipython3",
   "version": "3.13.7"
  }
 },
 "nbformat": 4,
 "nbformat_minor": 5
}
